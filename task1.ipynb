{
 "cells": [
  {
   "cell_type": "code",
   "execution_count": 1,
   "id": "0d1d5721-7a09-4c33-8c4c-eea4f9ba86a5",
   "metadata": {},
   "outputs": [
    {
     "name": "stdout",
     "output_type": "stream",
     "text": [
      "Requirement already satisfied: fitz in c:\\users\\e15\\downloads\\documents\\jupy\\lib\\site-packages (0.0.1.dev2)\n",
      "Requirement already satisfied: sentence-transformers in c:\\users\\e15\\downloads\\documents\\jupy\\lib\\site-packages (3.3.1)\n",
      "Requirement already satisfied: faiss-cpu in c:\\users\\e15\\downloads\\documents\\jupy\\lib\\site-packages (1.9.0.post1)\n",
      "Requirement already satisfied: openai in c:\\users\\e15\\downloads\\documents\\jupy\\lib\\site-packages (1.57.4)\n",
      "Requirement already satisfied: numpy in c:\\users\\e15\\downloads\\documents\\jupy\\lib\\site-packages (1.26.4)\n",
      "Requirement already satisfied: configobj in c:\\users\\e15\\downloads\\documents\\jupy\\lib\\site-packages (from fitz) (5.0.9)\n",
      "Requirement already satisfied: configparser in c:\\users\\e15\\downloads\\documents\\jupy\\lib\\site-packages (from fitz) (7.1.0)\n",
      "Requirement already satisfied: httplib2 in c:\\users\\e15\\downloads\\documents\\jupy\\lib\\site-packages (from fitz) (0.22.0)\n",
      "Requirement already satisfied: nibabel in c:\\users\\e15\\downloads\\documents\\jupy\\lib\\site-packages (from fitz) (5.3.2)\n",
      "Requirement already satisfied: nipype in c:\\users\\e15\\downloads\\documents\\jupy\\lib\\site-packages (from fitz) (1.9.1)\n",
      "Requirement already satisfied: pandas in c:\\users\\e15\\downloads\\documents\\jupy\\lib\\site-packages (from fitz) (2.2.2)\n",
      "Requirement already satisfied: pyxnat in c:\\users\\e15\\downloads\\documents\\jupy\\lib\\site-packages (from fitz) (1.6.2)\n",
      "Requirement already satisfied: scipy in c:\\users\\e15\\downloads\\documents\\jupy\\lib\\site-packages (from fitz) (1.13.1)\n",
      "Requirement already satisfied: transformers<5.0.0,>=4.41.0 in c:\\users\\e15\\downloads\\documents\\jupy\\lib\\site-packages (from sentence-transformers) (4.47.0)\n",
      "Requirement already satisfied: tqdm in c:\\users\\e15\\downloads\\documents\\jupy\\lib\\site-packages (from sentence-transformers) (4.66.4)\n",
      "Requirement already satisfied: torch>=1.11.0 in c:\\users\\e15\\downloads\\documents\\jupy\\lib\\site-packages (from sentence-transformers) (2.5.1)\n",
      "Requirement already satisfied: scikit-learn in c:\\users\\e15\\downloads\\documents\\jupy\\lib\\site-packages (from sentence-transformers) (1.4.2)\n",
      "Requirement already satisfied: huggingface-hub>=0.20.0 in c:\\users\\e15\\downloads\\documents\\jupy\\lib\\site-packages (from sentence-transformers) (0.27.0)\n",
      "Requirement already satisfied: Pillow in c:\\users\\e15\\downloads\\documents\\jupy\\lib\\site-packages (from sentence-transformers) (10.3.0)\n",
      "Requirement already satisfied: packaging in c:\\users\\e15\\downloads\\documents\\jupy\\lib\\site-packages (from faiss-cpu) (23.2)\n",
      "Requirement already satisfied: anyio<5,>=3.5.0 in c:\\users\\e15\\downloads\\documents\\jupy\\lib\\site-packages (from openai) (4.2.0)\n",
      "Requirement already satisfied: distro<2,>=1.7.0 in c:\\users\\e15\\downloads\\documents\\jupy\\lib\\site-packages (from openai) (1.9.0)\n",
      "Requirement already satisfied: httpx<1,>=0.23.0 in c:\\users\\e15\\downloads\\documents\\jupy\\lib\\site-packages (from openai) (0.27.0)\n",
      "Requirement already satisfied: jiter<1,>=0.4.0 in c:\\users\\e15\\downloads\\documents\\jupy\\lib\\site-packages (from openai) (0.8.2)\n",
      "Requirement already satisfied: pydantic<3,>=1.9.0 in c:\\users\\e15\\downloads\\documents\\jupy\\lib\\site-packages (from openai) (2.5.3)\n",
      "Requirement already satisfied: sniffio in c:\\users\\e15\\downloads\\documents\\jupy\\lib\\site-packages (from openai) (1.3.0)\n",
      "Requirement already satisfied: typing-extensions<5,>=4.11 in c:\\users\\e15\\downloads\\documents\\jupy\\lib\\site-packages (from openai) (4.11.0)\n",
      "Requirement already satisfied: idna>=2.8 in c:\\users\\e15\\downloads\\documents\\jupy\\lib\\site-packages (from anyio<5,>=3.5.0->openai) (3.7)\n",
      "Requirement already satisfied: certifi in c:\\users\\e15\\downloads\\documents\\jupy\\lib\\site-packages (from httpx<1,>=0.23.0->openai) (2024.8.30)\n",
      "Requirement already satisfied: httpcore==1.* in c:\\users\\e15\\downloads\\documents\\jupy\\lib\\site-packages (from httpx<1,>=0.23.0->openai) (1.0.2)\n",
      "Requirement already satisfied: h11<0.15,>=0.13 in c:\\users\\e15\\downloads\\documents\\jupy\\lib\\site-packages (from httpcore==1.*->httpx<1,>=0.23.0->openai) (0.14.0)\n",
      "Requirement already satisfied: filelock in c:\\users\\e15\\downloads\\documents\\jupy\\lib\\site-packages (from huggingface-hub>=0.20.0->sentence-transformers) (3.13.1)\n",
      "Requirement already satisfied: fsspec>=2023.5.0 in c:\\users\\e15\\downloads\\documents\\jupy\\lib\\site-packages (from huggingface-hub>=0.20.0->sentence-transformers) (2024.3.1)\n",
      "Requirement already satisfied: pyyaml>=5.1 in c:\\users\\e15\\downloads\\documents\\jupy\\lib\\site-packages (from huggingface-hub>=0.20.0->sentence-transformers) (6.0.1)\n",
      "Requirement already satisfied: requests in c:\\users\\e15\\downloads\\documents\\jupy\\lib\\site-packages (from huggingface-hub>=0.20.0->sentence-transformers) (2.32.2)\n",
      "Requirement already satisfied: annotated-types>=0.4.0 in c:\\users\\e15\\downloads\\documents\\jupy\\lib\\site-packages (from pydantic<3,>=1.9.0->openai) (0.6.0)\n",
      "Requirement already satisfied: pydantic-core==2.14.6 in c:\\users\\e15\\downloads\\documents\\jupy\\lib\\site-packages (from pydantic<3,>=1.9.0->openai) (2.14.6)\n",
      "Requirement already satisfied: networkx in c:\\users\\e15\\downloads\\documents\\jupy\\lib\\site-packages (from torch>=1.11.0->sentence-transformers) (3.2.1)\n",
      "Requirement already satisfied: jinja2 in c:\\users\\e15\\downloads\\documents\\jupy\\lib\\site-packages (from torch>=1.11.0->sentence-transformers) (3.1.4)\n",
      "Requirement already satisfied: setuptools in c:\\users\\e15\\downloads\\documents\\jupy\\lib\\site-packages (from torch>=1.11.0->sentence-transformers) (69.5.1)\n",
      "Requirement already satisfied: sympy==1.13.1 in c:\\users\\e15\\downloads\\documents\\jupy\\lib\\site-packages (from torch>=1.11.0->sentence-transformers) (1.13.1)\n",
      "Requirement already satisfied: mpmath<1.4,>=1.1.0 in c:\\users\\e15\\downloads\\documents\\jupy\\lib\\site-packages (from sympy==1.13.1->torch>=1.11.0->sentence-transformers) (1.3.0)\n",
      "Requirement already satisfied: colorama in c:\\users\\e15\\downloads\\documents\\jupy\\lib\\site-packages (from tqdm->sentence-transformers) (0.4.6)\n",
      "Requirement already satisfied: regex!=2019.12.17 in c:\\users\\e15\\downloads\\documents\\jupy\\lib\\site-packages (from transformers<5.0.0,>=4.41.0->sentence-transformers) (2023.10.3)\n",
      "Requirement already satisfied: tokenizers<0.22,>=0.21 in c:\\users\\e15\\downloads\\documents\\jupy\\lib\\site-packages (from transformers<5.0.0,>=4.41.0->sentence-transformers) (0.21.0)\n",
      "Requirement already satisfied: safetensors>=0.4.1 in c:\\users\\e15\\downloads\\documents\\jupy\\lib\\site-packages (from transformers<5.0.0,>=4.41.0->sentence-transformers) (0.4.5)\n",
      "Requirement already satisfied: pyparsing!=3.0.0,!=3.0.1,!=3.0.2,!=3.0.3,<4,>=2.4.2 in c:\\users\\e15\\downloads\\documents\\jupy\\lib\\site-packages (from httplib2->fitz) (3.0.9)\n",
      "Requirement already satisfied: click>=6.6.0 in c:\\users\\e15\\downloads\\documents\\jupy\\lib\\site-packages (from nipype->fitz) (8.1.7)\n",
      "Requirement already satisfied: prov>=1.5.2 in c:\\users\\e15\\downloads\\documents\\jupy\\lib\\site-packages (from nipype->fitz) (2.0.1)\n",
      "Requirement already satisfied: pydot>=1.2.3 in c:\\users\\e15\\downloads\\documents\\jupy\\lib\\site-packages (from nipype->fitz) (3.0.3)\n",
      "Requirement already satisfied: python-dateutil>=2.2 in c:\\users\\e15\\downloads\\documents\\jupy\\lib\\site-packages (from nipype->fitz) (2.9.0.post0)\n",
      "Requirement already satisfied: rdflib>=5.0.0 in c:\\users\\e15\\downloads\\documents\\jupy\\lib\\site-packages (from nipype->fitz) (6.3.2)\n",
      "Requirement already satisfied: simplejson>=3.8.0 in c:\\users\\e15\\downloads\\documents\\jupy\\lib\\site-packages (from nipype->fitz) (3.19.3)\n",
      "Requirement already satisfied: traits>=6.2 in c:\\users\\e15\\downloads\\documents\\jupy\\lib\\site-packages (from nipype->fitz) (6.4.3)\n",
      "Requirement already satisfied: acres in c:\\users\\e15\\downloads\\documents\\jupy\\lib\\site-packages (from nipype->fitz) (0.2.0)\n",
      "Requirement already satisfied: etelemetry>=0.3.1 in c:\\users\\e15\\downloads\\documents\\jupy\\lib\\site-packages (from nipype->fitz) (0.3.1)\n",
      "Requirement already satisfied: looseversion!=1.2 in c:\\users\\e15\\downloads\\documents\\jupy\\lib\\site-packages (from nipype->fitz) (1.3.0)\n",
      "Requirement already satisfied: puremagic in c:\\users\\e15\\downloads\\documents\\jupy\\lib\\site-packages (from nipype->fitz) (1.28)\n",
      "Requirement already satisfied: pytz>=2020.1 in c:\\users\\e15\\downloads\\documents\\jupy\\lib\\site-packages (from pandas->fitz) (2024.1)\n",
      "Requirement already satisfied: tzdata>=2022.7 in c:\\users\\e15\\downloads\\documents\\jupy\\lib\\site-packages (from pandas->fitz) (2023.3)\n",
      "Requirement already satisfied: lxml>=4.3 in c:\\users\\e15\\downloads\\documents\\jupy\\lib\\site-packages (from pyxnat->fitz) (5.2.1)\n",
      "Requirement already satisfied: pathlib>=1.0 in c:\\users\\e15\\downloads\\documents\\jupy\\lib\\site-packages (from pyxnat->fitz) (1.0.1)\n",
      "Requirement already satisfied: joblib>=1.2.0 in c:\\users\\e15\\downloads\\documents\\jupy\\lib\\site-packages (from scikit-learn->sentence-transformers) (1.4.2)\n",
      "Requirement already satisfied: threadpoolctl>=2.0.0 in c:\\users\\e15\\downloads\\documents\\jupy\\lib\\site-packages (from scikit-learn->sentence-transformers) (2.2.0)\n",
      "Requirement already satisfied: ci-info>=0.2 in c:\\users\\e15\\downloads\\documents\\jupy\\lib\\site-packages (from etelemetry>=0.3.1->nipype->fitz) (0.3.0)\n",
      "Requirement already satisfied: six>=1.5 in c:\\users\\e15\\downloads\\documents\\jupy\\lib\\site-packages (from python-dateutil>=2.2->nipype->fitz) (1.16.0)\n",
      "Requirement already satisfied: isodate<0.7.0,>=0.6.0 in c:\\users\\e15\\downloads\\documents\\jupy\\lib\\site-packages (from rdflib>=5.0.0->nipype->fitz) (0.6.1)\n",
      "Requirement already satisfied: charset-normalizer<4,>=2 in c:\\users\\e15\\downloads\\documents\\jupy\\lib\\site-packages (from requests->huggingface-hub>=0.20.0->sentence-transformers) (2.0.4)\n",
      "Requirement already satisfied: urllib3<3,>=1.21.1 in c:\\users\\e15\\downloads\\documents\\jupy\\lib\\site-packages (from requests->huggingface-hub>=0.20.0->sentence-transformers) (2.2.2)\n",
      "Requirement already satisfied: MarkupSafe>=2.0 in c:\\users\\e15\\downloads\\documents\\jupy\\lib\\site-packages (from jinja2->torch>=1.11.0->sentence-transformers) (2.1.3)\n"
     ]
    }
   ],
   "source": [
    "!pip install fitz sentence-transformers faiss-cpu openai numpy"
   ]
  },
  {
   "cell_type": "code",
   "execution_count": 2,
   "id": "ad3c8367-f38f-4a78-a243-8c231a650271",
   "metadata": {},
   "outputs": [
    {
     "data": {
      "text/plain": [
       "['.anaconda',\n",
       " '.android',\n",
       " '.cache',\n",
       " '.conda',\n",
       " '.condarc',\n",
       " '.continuum',\n",
       " '.eclipse',\n",
       " '.idlerc',\n",
       " '.ipynb_checkpoints',\n",
       " '.ipython',\n",
       " '.jupyter',\n",
       " '.matplotlib',\n",
       " '.node_repl_history',\n",
       " '.p2',\n",
       " '.virtual_documents',\n",
       " '.vscode',\n",
       " '3D Objects',\n",
       " 'AppData',\n",
       " 'Application Data',\n",
       " 'Contacts',\n",
       " 'Cookies',\n",
       " 'Demo',\n",
       " 'Documents',\n",
       " 'Downloads',\n",
       " 'eclipse',\n",
       " 'eclipse-workspace',\n",
       " 'Favorites',\n",
       " 'HVPE UNIT-5.pdf',\n",
       " 'IntelGraphicsProfiles',\n",
       " 'jaya',\n",
       " 'Links',\n",
       " 'Local Settings',\n",
       " 'Music',\n",
       " 'My Documents',\n",
       " 'navya',\n",
       " 'NetHood',\n",
       " 'NTUSER.DAT',\n",
       " 'ntuser.dat.LOG1',\n",
       " 'ntuser.dat.LOG2',\n",
       " 'NTUSER.DAT{5506fa0c-cffb-11ee-94a4-bb80b88f61d1}.TM.blf',\n",
       " 'NTUSER.DAT{5506fa0c-cffb-11ee-94a4-bb80b88f61d1}.TMContainer00000000000000000001.regtrans-ms',\n",
       " 'NTUSER.DAT{5506fa0c-cffb-11ee-94a4-bb80b88f61d1}.TMContainer00000000000000000002.regtrans-ms',\n",
       " 'ntuser.ini',\n",
       " 'OneDrive',\n",
       " 'PrintHood',\n",
       " 'project_1.zip',\n",
       " 'Project_files',\n",
       " 'Project_files.zip',\n",
       " 'rag_pipeline',\n",
       " 'Recent',\n",
       " 'Saved Games',\n",
       " 'Searches',\n",
       " 'SendTo',\n",
       " 'siri',\n",
       " 'sithapal',\n",
       " 'Start Menu',\n",
       " 'summerofai',\n",
       " 'task1.ipynb',\n",
       " 'Templates',\n",
       " 'Untitled.ipynb',\n",
       " 'untitled.py',\n",
       " 'Untitled1.ipynb',\n",
       " 'Untitled10.ipynb',\n",
       " 'Untitled11.ipynb',\n",
       " 'Untitled12.ipynb',\n",
       " 'Untitled13.ipynb',\n",
       " 'Untitled14.ipynb',\n",
       " 'Untitled15.ipynb',\n",
       " 'Untitled16.ipynb',\n",
       " 'Untitled17.ipynb',\n",
       " 'Untitled18.ipynb',\n",
       " 'Untitled19.ipynb',\n",
       " 'Untitled2.ipynb',\n",
       " 'Untitled3.ipynb',\n",
       " 'Untitled4.ipynb',\n",
       " 'Untitled5.ipynb',\n",
       " 'Untitled6.ipynb',\n",
       " 'Untitled7.ipynb',\n",
       " 'Untitled8.ipynb',\n",
       " 'Untitled9.ipynb',\n",
       " 'Videos']"
      ]
     },
     "execution_count": 2,
     "metadata": {},
     "output_type": "execute_result"
    }
   ],
   "source": [
    "import os\n",
    "os.listdir()"
   ]
  },
  {
   "cell_type": "code",
   "execution_count": 3,
   "id": "17eac90a-4875-495f-a578-e8cd933b417b",
   "metadata": {},
   "outputs": [
    {
     "name": "stdout",
     "output_type": "stream",
     "text": [
      "Found existing installation: PyMuPDF 1.25.1\n",
      "Uninstalling PyMuPDF-1.25.1:\n",
      "  Successfully uninstalled PyMuPDF-1.25.1\n"
     ]
    }
   ],
   "source": [
    "!pip uninstall -y PyMuPDF"
   ]
  },
  {
   "cell_type": "code",
   "execution_count": 4,
   "id": "0c51681b-5f75-4ccf-b0bb-daa0d4e27fe3",
   "metadata": {},
   "outputs": [
    {
     "name": "stderr",
     "output_type": "stream",
     "text": [
      "WARNING: Package(s) not found: PyMuPDF\n"
     ]
    }
   ],
   "source": [
    "!pip show PyMuPDF\n"
   ]
  },
  {
   "cell_type": "code",
   "execution_count": 5,
   "id": "2f39d0bb-6ebe-4f9b-816d-3f28ea8345f3",
   "metadata": {},
   "outputs": [
    {
     "name": "stdout",
     "output_type": "stream",
     "text": [
      "Collecting PyMuPDF\n",
      "  Using cached pymupdf-1.25.1-cp39-abi3-win_amd64.whl.metadata (3.4 kB)\n",
      "Using cached pymupdf-1.25.1-cp39-abi3-win_amd64.whl (16.6 MB)\n",
      "Installing collected packages: PyMuPDF\n",
      "Successfully installed PyMuPDF-1.25.1\n"
     ]
    }
   ],
   "source": [
    "!pip install PyMuPDF"
   ]
  },
  {
   "cell_type": "code",
   "execution_count": 6,
   "id": "eb0727ca-d254-4a48-8ca8-5694fca40cf2",
   "metadata": {},
   "outputs": [
    {
     "name": "stdout",
     "output_type": "stream",
     "text": [
      "1.25.1\n"
     ]
    }
   ],
   "source": [
    "import fitz  # PyMuPDF\n",
    "print(fitz.__version__)  # This will print the installed version of PyMuPDF"
   ]
  },
  {
   "cell_type": "code",
   "execution_count": 7,
   "id": "1119d87a-adb1-4087-938f-384abf423ca4",
   "metadata": {},
   "outputs": [
    {
     "name": "stdout",
     "output_type": "stream",
     "text": [
      "GIFT Vs BRIBE A gift is a bribe which involves huge money which if you can’t eat,  drink or \n",
      "smoke it in a day. Acceptance of a gift, if revealed in public, will throw up grave consequences \n",
      "for both the company and the employee because it will be viewed as bribe. Bribe normally \n",
      "involves a substantial amount of money or goods offered beyond a stated business contract with \n",
      "the ulterior motive of winning an advantage in gaining the contract. What is meant by \n",
      "substantial in this case? Substantial means as much as adequate to distort the judgement of a \n",
      "typical person. \n",
      "GREASE PAYMENTS : Grease Payments come in all sorts of shapes and forms, but more or \n",
      "less they’re designed to make things happen that would normally take a longer period of time to \n",
      "accomplish. Grease Payments are often paid to individuals or organizations in a position to \n",
      "“Make Things Happen”. In many developing nations, government officials regularly accept \n",
      "grease payments to get approval for building codes, or buying property. Cultural practices make \n",
      "it commonplace that people wishing to deal with government have to expect to make a \n",
      "“Facilitating Payment” to get anything to happen. Naturally, this makes government jobs highly \n",
      "sought after positions. Perhaps an example would best illustrate a grease payment. \n",
      "Example: ABC company is an importer of (legal) drugs into India. But the regulating body \n",
      "works very slowly and is accustomed to taking grease payments to get faster approval to import \n",
      "new drugs. ABC company has to pay Rs. 20,000/- to an official to make sure its application \n",
      "goes through faster in a process that may normally take a couple years to complete. Is that \n",
      "wrong? Can Indian Government do something about it? \n",
      " \n",
      "NEPOTISM: \n",
      "Definition: The practice among those with power or influence of favouring relatives or friends, \n",
      "especially by giving them jobs. \n",
      " \n",
      "Nepotism is favoritism granted to relatives.  Nepotism can occur in various fields including: \n",
      "politics, entertainment, business, and religion. \n",
      " \n",
      "Types of partiality: \n",
      "Nepotism refers to partiality to family. whereas cronyism refers to partiality to an associate \n",
      "or friend. Favoritism, the broadest of the terms, refers to partiality based upon being part of a \n",
      "favored group, rather than job performance.  \n",
      "The shocker...  I have seen nepotism work - in a couple of instances.  I actually have a long-\n",
      "term Client who makes nepotism work by holding relatives to a much higher standard then the \n",
      "rest of the team.  This is far from the norm!  The result for this particular organization is higher \n",
      "performance - but this example is an exception.  This Client is a leadership accountability \n",
      "example of excellence that I wish I could transfer to others.  This manager demands \n",
      "performance from everyone!  The relatives on the team all know that they must meet and rise \n",
      "above the standard set for all team members.  I can honestly say that it takes a while for new \n",
      "hires to realize that there are relatives on the team.  In effect...  Nepotism does not exist on this \n",
      "high accountability leader's team.  \n",
      "\n"
     ]
    }
   ],
   "source": [
    "import fitz  # PyMuPDF\n",
    "\n",
    "# Function to extract text from a specific page of a PDF\n",
    "def extract_text_from_pdf(pdf_path, page_num):\n",
    "    pdf_document = fitz.open(pdf_path)  # Open the PDF file\n",
    "    page = pdf_document.load_page(page_num)  # Load the specified page\n",
    "    text = page.get_text(\"text\")  # Extract text from the page\n",
    "    return text\n",
    "\n",
    "# Replace with the actual name of your uploaded PDF file\n",
    "pdf_path = \"HVPE UNIT-5.pdf\"  # Use the file name that you uploaded\n",
    "page_num = 1  # 0-indexed, so page 2 is at index 1\n",
    "text = extract_text_from_pdf(pdf_path, page_num)\n",
    "print(text)  # Print the extracted text from the PDF page"
   ]
  },
  {
   "cell_type": "code",
   "execution_count": 8,
   "id": "16093c6a-0f44-4042-be09-2f9d55092c21",
   "metadata": {},
   "outputs": [
    {
     "name": "stdout",
     "output_type": "stream",
     "text": [
      "GIFT Vs BRIBE A gift is a bribe which involves huge money which if you can’t eat,  drink or \n",
      "smoke it in a day. Acceptance of a gift, if revealed in public, will throw up grave consequences \n",
      "for both the company and the employee because it will be viewed as bribe. Bribe normally \n",
      "involves a substantial amount of money or goods offered beyond a stated business contract with \n",
      "the ulterior motive of winning an advantage in gaining the contract. What is meant by \n",
      "substantial in this case? Substantia\n"
     ]
    }
   ],
   "source": [
    "import fitz  # PyMuPDF\n",
    "\n",
    "# Function to extract text from a specific page of a PDF\n",
    "def extract_text_from_pdf(pdf_path, page_num):\n",
    "    with fitz.open(pdf_path) as doc:\n",
    "        page = doc.load_page(page_num)  # Page number is 0-indexed\n",
    "        text = page.get_text(\"text\")  # Extract text from the page\n",
    "    return text\n",
    "\n",
    "# Replace with the path to your actual uploaded PDF file\n",
    "pdf_path = \"HVPE UNIT-5.pdf\"  # Change to the correct file name\n",
    "page_num = 1  # Page 2 (0-indexed, so 1 corresponds to page 2)\n",
    "text = extract_text_from_pdf(pdf_path, page_num)\n",
    "\n",
    "# Verify that the 'text' variable contains the extracted text\n",
    "print(text[:500])  # Print the first 500 characters of the extracted text to check"
   ]
  },
  {
   "cell_type": "code",
   "execution_count": 9,
   "id": "6a82ca0b-61ef-4b23-9e00-664b14341c91",
   "metadata": {},
   "outputs": [
    {
     "name": "stdout",
     "output_type": "stream",
     "text": [
      "['GIFT Vs BRIBE A gift is a bribe which involves huge money which if you can’t eat,  drink or', 'smoke it in a day. Acceptance of a gift, if revealed in public, will throw up grave consequences', 'for both the company and the employee because it will be viewed as bribe. Bribe normally', 'involves a substantial amount of money or goods offered beyond a stated business contract with', 'the ulterior motive of winning an advantage in gaining the contract. What is meant by']\n"
     ]
    }
   ],
   "source": [
    "# Function to chunk the extracted text into smaller parts (e.g., by new lines)\n",
    "def chunk_text(text, delimiter=\"\\n\"):\n",
    "    chunks = text.split(delimiter)  # Split the text by newlines\n",
    "    return [chunk.strip() for chunk in chunks if chunk.strip()]\n",
    "\n",
    "# Chunk the extracted text (from the PDF page)\n",
    "chunks = chunk_text(text)\n",
    "print(chunks[:5])  # Print first 5 chunks for inspection"
   ]
  },
  {
   "cell_type": "code",
   "execution_count": 10,
   "id": "aafc3988-8e53-4411-ba2b-835128226cc7",
   "metadata": {},
   "outputs": [
    {
     "name": "stdout",
     "output_type": "stream",
     "text": [
      "Requirement already satisfied: sentence-transformers in c:\\users\\e15\\downloads\\documents\\jupy\\lib\\site-packages (3.3.1)\n",
      "Requirement already satisfied: transformers<5.0.0,>=4.41.0 in c:\\users\\e15\\downloads\\documents\\jupy\\lib\\site-packages (from sentence-transformers) (4.47.0)\n",
      "Requirement already satisfied: tqdm in c:\\users\\e15\\downloads\\documents\\jupy\\lib\\site-packages (from sentence-transformers) (4.66.4)\n",
      "Requirement already satisfied: torch>=1.11.0 in c:\\users\\e15\\downloads\\documents\\jupy\\lib\\site-packages (from sentence-transformers) (2.5.1)\n",
      "Requirement already satisfied: scikit-learn in c:\\users\\e15\\downloads\\documents\\jupy\\lib\\site-packages (from sentence-transformers) (1.4.2)\n",
      "Requirement already satisfied: scipy in c:\\users\\e15\\downloads\\documents\\jupy\\lib\\site-packages (from sentence-transformers) (1.13.1)\n",
      "Requirement already satisfied: huggingface-hub>=0.20.0 in c:\\users\\e15\\downloads\\documents\\jupy\\lib\\site-packages (from sentence-transformers) (0.27.0)\n",
      "Requirement already satisfied: Pillow in c:\\users\\e15\\downloads\\documents\\jupy\\lib\\site-packages (from sentence-transformers) (10.3.0)\n",
      "Requirement already satisfied: filelock in c:\\users\\e15\\downloads\\documents\\jupy\\lib\\site-packages (from huggingface-hub>=0.20.0->sentence-transformers) (3.13.1)\n",
      "Requirement already satisfied: fsspec>=2023.5.0 in c:\\users\\e15\\downloads\\documents\\jupy\\lib\\site-packages (from huggingface-hub>=0.20.0->sentence-transformers) (2024.3.1)\n",
      "Requirement already satisfied: packaging>=20.9 in c:\\users\\e15\\downloads\\documents\\jupy\\lib\\site-packages (from huggingface-hub>=0.20.0->sentence-transformers) (23.2)\n",
      "Requirement already satisfied: pyyaml>=5.1 in c:\\users\\e15\\downloads\\documents\\jupy\\lib\\site-packages (from huggingface-hub>=0.20.0->sentence-transformers) (6.0.1)\n",
      "Requirement already satisfied: requests in c:\\users\\e15\\downloads\\documents\\jupy\\lib\\site-packages (from huggingface-hub>=0.20.0->sentence-transformers) (2.32.2)\n",
      "Requirement already satisfied: typing-extensions>=3.7.4.3 in c:\\users\\e15\\downloads\\documents\\jupy\\lib\\site-packages (from huggingface-hub>=0.20.0->sentence-transformers) (4.11.0)\n",
      "Requirement already satisfied: networkx in c:\\users\\e15\\downloads\\documents\\jupy\\lib\\site-packages (from torch>=1.11.0->sentence-transformers) (3.2.1)\n",
      "Requirement already satisfied: jinja2 in c:\\users\\e15\\downloads\\documents\\jupy\\lib\\site-packages (from torch>=1.11.0->sentence-transformers) (3.1.4)\n",
      "Requirement already satisfied: setuptools in c:\\users\\e15\\downloads\\documents\\jupy\\lib\\site-packages (from torch>=1.11.0->sentence-transformers) (69.5.1)\n",
      "Requirement already satisfied: sympy==1.13.1 in c:\\users\\e15\\downloads\\documents\\jupy\\lib\\site-packages (from torch>=1.11.0->sentence-transformers) (1.13.1)\n",
      "Requirement already satisfied: mpmath<1.4,>=1.1.0 in c:\\users\\e15\\downloads\\documents\\jupy\\lib\\site-packages (from sympy==1.13.1->torch>=1.11.0->sentence-transformers) (1.3.0)\n",
      "Requirement already satisfied: colorama in c:\\users\\e15\\downloads\\documents\\jupy\\lib\\site-packages (from tqdm->sentence-transformers) (0.4.6)\n",
      "Requirement already satisfied: numpy>=1.17 in c:\\users\\e15\\downloads\\documents\\jupy\\lib\\site-packages (from transformers<5.0.0,>=4.41.0->sentence-transformers) (1.26.4)\n",
      "Requirement already satisfied: regex!=2019.12.17 in c:\\users\\e15\\downloads\\documents\\jupy\\lib\\site-packages (from transformers<5.0.0,>=4.41.0->sentence-transformers) (2023.10.3)\n",
      "Requirement already satisfied: tokenizers<0.22,>=0.21 in c:\\users\\e15\\downloads\\documents\\jupy\\lib\\site-packages (from transformers<5.0.0,>=4.41.0->sentence-transformers) (0.21.0)\n",
      "Requirement already satisfied: safetensors>=0.4.1 in c:\\users\\e15\\downloads\\documents\\jupy\\lib\\site-packages (from transformers<5.0.0,>=4.41.0->sentence-transformers) (0.4.5)\n",
      "Requirement already satisfied: joblib>=1.2.0 in c:\\users\\e15\\downloads\\documents\\jupy\\lib\\site-packages (from scikit-learn->sentence-transformers) (1.4.2)\n",
      "Requirement already satisfied: threadpoolctl>=2.0.0 in c:\\users\\e15\\downloads\\documents\\jupy\\lib\\site-packages (from scikit-learn->sentence-transformers) (2.2.0)\n",
      "Requirement already satisfied: MarkupSafe>=2.0 in c:\\users\\e15\\downloads\\documents\\jupy\\lib\\site-packages (from jinja2->torch>=1.11.0->sentence-transformers) (2.1.3)\n",
      "Requirement already satisfied: charset-normalizer<4,>=2 in c:\\users\\e15\\downloads\\documents\\jupy\\lib\\site-packages (from requests->huggingface-hub>=0.20.0->sentence-transformers) (2.0.4)\n",
      "Requirement already satisfied: idna<4,>=2.5 in c:\\users\\e15\\downloads\\documents\\jupy\\lib\\site-packages (from requests->huggingface-hub>=0.20.0->sentence-transformers) (3.7)\n",
      "Requirement already satisfied: urllib3<3,>=1.21.1 in c:\\users\\e15\\downloads\\documents\\jupy\\lib\\site-packages (from requests->huggingface-hub>=0.20.0->sentence-transformers) (2.2.2)\n",
      "Requirement already satisfied: certifi>=2017.4.17 in c:\\users\\e15\\downloads\\documents\\jupy\\lib\\site-packages (from requests->huggingface-hub>=0.20.0->sentence-transformers) (2024.8.30)\n"
     ]
    }
   ],
   "source": [
    "!pip install sentence-transformers"
   ]
  },
  {
   "cell_type": "code",
   "execution_count": 11,
   "id": "ed425a64-cb08-4259-bebb-a8a74eac5df6",
   "metadata": {},
   "outputs": [],
   "source": [
    "import os\n",
    "\n",
    "# Disable the symlink warning\n",
    "os.environ[\"HF_HUB_DISABLE_SYMLINKS_WARNING\"] = \"1\"\n"
   ]
  },
  {
   "cell_type": "code",
   "execution_count": 12,
   "id": "53a0d140-a387-4ed6-8ca2-cca2c19baf75",
   "metadata": {},
   "outputs": [
    {
     "name": "stdout",
     "output_type": "stream",
     "text": [
      "[-6.24499992e-02  1.08583577e-01 -2.16875635e-02 -3.68464813e-02\n",
      "  5.57054859e-03 -4.96516470e-03  1.10576257e-01 -2.85561178e-02\n",
      "  1.27065582e-02  1.76853333e-02  6.78538531e-02 -5.21504544e-02\n",
      "  7.92162493e-03  2.08224040e-02  4.54253377e-03 -3.79669257e-02\n",
      "  4.95985262e-02 -7.30268210e-02 -1.16505316e-02  5.73473563e-03\n",
      "  5.07719219e-02 -6.51738718e-02 -6.83290791e-03 -2.17265878e-02\n",
      "  3.58259045e-02  4.27716412e-02 -3.77940498e-02 -7.64307678e-02\n",
      "  5.48348166e-02 -3.44119482e-02  2.06479784e-02  6.20489009e-02\n",
      " -3.79725434e-02 -3.23962532e-02 -2.38270890e-02  5.78801706e-02\n",
      "  5.57603054e-02  2.97379307e-02 -2.07616165e-02  4.04417403e-02\n",
      "  3.70934419e-02 -7.88008235e-03  6.15427569e-02  2.45530382e-02\n",
      "  3.50203784e-03  3.06235757e-02  5.75663000e-02  5.06284609e-02\n",
      " -2.32776124e-02  2.17352505e-03 -8.98400322e-02 -1.68923121e-02\n",
      " -2.23099105e-02  4.76032346e-02  7.97574744e-02 -4.56141531e-02\n",
      "  8.92644599e-02  1.67867858e-02 -1.52924834e-02 -5.52694779e-03\n",
      " -1.27195697e-02  2.34127976e-02  5.37558971e-03 -7.63789238e-03\n",
      "  1.47604719e-02 -6.32954836e-02 -7.84329996e-02  8.07101431e-04\n",
      " -6.46218434e-02 -3.77403162e-02  6.19965196e-02 -4.13920991e-02\n",
      "  6.51471168e-02 -5.81575781e-02  5.15227914e-02 -3.29200998e-02\n",
      " -3.10471579e-02 -5.94977941e-03 -1.62259617e-03  6.65695444e-02\n",
      " -1.21343352e-01  1.39103243e-02  6.34489860e-03 -5.51783629e-02\n",
      " -5.33997454e-02 -1.18345497e-02 -4.48371172e-02 -4.95511740e-02\n",
      "  2.60300953e-02  4.07304429e-02 -1.49912657e-02  9.98828281e-03\n",
      " -1.82963032e-02 -1.40951909e-02 -5.94423525e-02  6.24754466e-02\n",
      "  2.81031951e-02  2.20632721e-02 -1.04584070e-02  3.56063396e-02\n",
      "  2.09554546e-02  1.04526840e-01 -3.88493650e-02  4.70789224e-02\n",
      "  1.26743019e-01 -2.75830775e-02 -1.21358326e-02 -2.57408656e-02\n",
      "  4.42424268e-02 -1.93092655e-02 -1.07642762e-01  1.33715972e-01\n",
      "  4.01212871e-02  2.90850829e-02 -4.51999940e-02  8.40534344e-02\n",
      " -6.55605868e-02 -1.20828347e-03 -2.84493202e-03 -4.18086015e-02\n",
      "  3.19320634e-02  5.88911921e-02  4.88645062e-02 -8.17046408e-03\n",
      " -2.62721665e-02 -6.62942007e-02 -2.37767231e-02 -3.83629965e-33\n",
      " -3.21849659e-02 -1.49345389e-02 -4.68412265e-02  6.23961613e-02\n",
      "  5.31579703e-02 -2.28052065e-02  3.80438715e-02  3.67709622e-02\n",
      " -1.59384422e-02  1.75296050e-02  1.51804630e-02 -2.38256920e-02\n",
      "  5.87481707e-02  7.64123648e-02  5.57455868e-02  3.77388857e-02\n",
      " -8.60355720e-02 -1.83359068e-02  2.83993762e-02 -1.74623337e-02\n",
      "  8.77044275e-02 -5.91852069e-02  8.93088728e-02  6.43565729e-02\n",
      "  4.36859876e-02 -5.19866087e-02  3.19730560e-03  5.81802838e-02\n",
      "  9.35852677e-02  5.78942569e-03 -1.91758759e-02 -1.58986729e-02\n",
      "  1.12449884e-01 -7.21696168e-02 -1.07312381e-01 -3.00861485e-02\n",
      "  3.88512835e-02 -1.21786214e-01 -3.08549460e-02 -7.18843639e-02\n",
      " -9.43799093e-02 -6.08133909e-04  2.59730630e-02  5.26347831e-02\n",
      " -2.82142330e-02  4.65734527e-02  7.11415187e-02 -6.21012636e-02\n",
      " -7.12744594e-02 -9.26270615e-03  6.81963414e-02 -7.08094463e-02\n",
      "  6.90193698e-02 -9.37275682e-03 -4.83383723e-02 -9.22886953e-02\n",
      "  4.66203056e-02  1.16990907e-02 -8.04876834e-02 -1.55623946e-02\n",
      "  4.85352278e-02 -4.02452275e-02  6.15822561e-02  3.94980833e-02\n",
      " -5.31932935e-02 -2.15322897e-02  4.69647460e-02 -1.34628955e-02\n",
      "  4.88400087e-03 -5.15861511e-02  6.90207630e-02  5.08122705e-02\n",
      " -3.99973653e-02  5.10290302e-02 -5.38245626e-02 -1.00133345e-02\n",
      "  5.54462858e-02 -1.26125861e-03  2.98177041e-02  9.51075577e-04\n",
      " -4.44244184e-02 -4.53873128e-02  8.53821412e-02  3.78980115e-02\n",
      " -2.00332422e-02  6.27516583e-02 -3.58458050e-02 -7.69028217e-02\n",
      "  1.06295802e-01 -4.73736785e-03 -7.74452612e-02 -1.57518033e-02\n",
      "  9.46990252e-02 -4.14002687e-02  1.59339048e-02  1.24090446e-33\n",
      " -2.13386342e-02 -2.93250941e-02 -2.91376803e-02  7.36882025e-03\n",
      "  1.61562189e-02  1.46816708e-02 -4.65067662e-02  3.59219545e-03\n",
      "  9.69360024e-02  5.78373391e-03 -1.06123060e-01 -3.06709632e-02\n",
      "  5.03884889e-02 -2.10311376e-02  1.23700052e-02 -7.82327726e-02\n",
      "  5.09532206e-02  1.62868556e-02 -1.22346655e-02  2.90367082e-02\n",
      " -9.08731297e-03  1.14459582e-01  3.26012485e-02 -7.41518140e-02\n",
      " -1.20639779e-01  4.30553705e-02 -5.32487035e-02 -8.52672104e-03\n",
      " -8.50117058e-02  6.63780943e-02  6.11683168e-02  3.09183411e-02\n",
      " -8.83529186e-02 -1.55782625e-02 -4.85627167e-03  4.18111905e-02\n",
      " -6.40622824e-02 -9.50792655e-02 -4.82202433e-02 -3.25732082e-02\n",
      "  2.57879160e-02  3.70030999e-02  4.14028727e-02  3.62213738e-02\n",
      "  1.59021262e-02 -7.32038096e-02 -3.59176248e-02 -6.13017380e-02\n",
      "  1.01614356e-01  9.36099421e-03  6.47535026e-02  3.11843818e-03\n",
      "  2.64728386e-02  3.99194770e-02 -5.72478138e-02  6.46116361e-02\n",
      "  1.15546640e-02  5.90278010e-04  6.74295127e-02 -3.58704925e-02\n",
      " -1.91889796e-02 -4.54636477e-02 -1.15323186e-01 -2.28158501e-03\n",
      " -6.90479651e-02  1.65526029e-02  3.13452892e-02  4.95588966e-02\n",
      "  1.19448341e-01 -1.10950023e-02  7.93847367e-02  1.10212574e-02\n",
      "  7.11714820e-05  9.09390226e-02 -6.13277145e-02  1.13716438e-01\n",
      "  5.59109496e-03  3.06028072e-02  4.37540077e-02 -5.52151725e-02\n",
      " -1.17524872e-02  4.16586436e-02  5.89041300e-02 -3.89195383e-02\n",
      " -3.85136418e-02 -2.73014344e-02  4.08513471e-02 -8.83754715e-02\n",
      " -1.68062393e-02 -5.92855737e-02 -1.73921399e-02 -4.61223722e-02\n",
      "  7.88442567e-02 -2.18478981e-02  8.18778723e-02 -2.24879297e-08\n",
      "  7.88112581e-02  9.48485732e-03 -2.08198130e-02 -4.65953397e-03\n",
      " -3.39514054e-02 -6.37165084e-02 -9.85560566e-02 -5.30022345e-02\n",
      " -2.90843584e-02  5.78391273e-03  2.14682296e-02  5.45826890e-02\n",
      " -3.79305407e-02 -7.96815827e-02 -3.35579105e-02  1.56453270e-02\n",
      "  3.30162514e-03 -2.90806424e-02 -5.03867380e-02  1.36956340e-02\n",
      " -2.45482735e-02 -2.94057708e-02 -3.28792967e-02  2.07069907e-02\n",
      " -3.10271345e-02 -7.54735395e-02  1.39867533e-02  7.45934397e-02\n",
      "  3.09593547e-02 -6.10162839e-02 -4.90712002e-02 -3.53437886e-02\n",
      " -1.73280891e-02  5.83444498e-02  4.91958410e-02 -2.73934230e-02\n",
      " -2.47110147e-02 -5.58080673e-02  9.69523285e-03  3.64774896e-05\n",
      "  1.83262918e-02 -6.89127967e-02 -4.99924347e-02 -2.11692695e-02\n",
      " -1.56752616e-01  4.70800512e-02 -4.44476269e-02 -9.31488816e-03\n",
      " -1.20157367e-02  3.29063386e-02  3.13646272e-02 -1.10328868e-02\n",
      "  1.17168473e-02 -4.55034748e-02 -1.13341790e-02 -9.71860904e-03\n",
      " -1.91573408e-02  3.53592224e-02  7.12209269e-02 -6.11892045e-02\n",
      "  5.48673905e-02  1.35220662e-02  3.51049155e-02 -3.61439809e-02]\n"
     ]
    }
   ],
   "source": [
    "from sentence_transformers import SentenceTransformer\n",
    "\n",
    "# Initialize the model (e.g., \"all-MiniLM-L6-v2\")\n",
    "model = SentenceTransformer('all-MiniLM-L6-v2')\n",
    "\n",
    "# Generate embeddings for each chunk of text\n",
    "chunk_embeddings = model.encode(chunks)  # This will create an embedding for each chunk\n",
    "\n",
    "# Print the first embedding to verify\n",
    "print(chunk_embeddings[0])"
   ]
  },
  {
   "cell_type": "code",
   "execution_count": 13,
   "id": "a0d32a38-3cd0-4e72-b570-98f9d6223e29",
   "metadata": {},
   "outputs": [
    {
     "name": "stdout",
     "output_type": "stream",
     "text": [
      "Requirement already satisfied: faiss-cpu in c:\\users\\e15\\downloads\\documents\\jupy\\lib\\site-packages (1.9.0.post1)\n",
      "Requirement already satisfied: numpy<3.0,>=1.25.0 in c:\\users\\e15\\downloads\\documents\\jupy\\lib\\site-packages (from faiss-cpu) (1.26.4)\n",
      "Requirement already satisfied: packaging in c:\\users\\e15\\downloads\\documents\\jupy\\lib\\site-packages (from faiss-cpu) (23.2)\n"
     ]
    }
   ],
   "source": [
    "!pip install faiss-cpu\n"
   ]
  },
  {
   "cell_type": "code",
   "execution_count": 14,
   "id": "c5d6cbfe-62f9-4e77-93c0-72c3680ac34c",
   "metadata": {},
   "outputs": [
    {
     "name": "stdout",
     "output_type": "stream",
     "text": [
      "Added 38 chunks to the FAISS index.\n"
     ]
    }
   ],
   "source": [
    "import faiss\n",
    "import numpy as np\n",
    "\n",
    "# Convert the embeddings to a numpy array (FAISS requires numpy arrays)\n",
    "chunk_embeddings = np.array(chunk_embeddings)\n",
    "\n",
    "# Create a FAISS index (for L2 similarity search)\n",
    "index = faiss.IndexFlatL2(chunk_embeddings.shape[1])  # L2 index for cosine similarity search\n",
    "\n",
    "# Add the embeddings to the index\n",
    "index.add(chunk_embeddings)\n",
    "\n",
    "print(f\"Added {len(chunk_embeddings)} chunks to the FAISS index.\")"
   ]
  },
  {
   "cell_type": "code",
   "execution_count": 15,
   "id": "db1257a3-e826-4bab-b59a-4420ad7163e1",
   "metadata": {},
   "outputs": [
    {
     "name": "stdout",
     "output_type": "stream",
     "text": [
      "[ 4.50963750e-02  4.89276536e-02  4.19581588e-03  6.88173249e-02\n",
      " -3.46644945e-03  3.15999165e-02 -9.36890990e-02 -1.24079818e-02\n",
      " -4.06297222e-02  3.49819213e-02 -1.58177083e-03 -3.32561955e-02\n",
      " -8.74874927e-03 -3.73211056e-02  1.49325118e-03  6.62127137e-02\n",
      "  7.49185495e-03 -2.30486318e-02  8.41944367e-02 -7.46993050e-02\n",
      " -3.63559350e-02  8.80984496e-03 -3.04004364e-02 -1.35125950e-01\n",
      "  1.38585269e-01 -4.98088896e-02  3.43380235e-02 -5.05617596e-02\n",
      " -3.03651951e-02  2.96001658e-02  3.06537859e-02  1.11199357e-02\n",
      "  4.82602529e-02  8.01903661e-03 -1.43189104e-02 -7.42173269e-02\n",
      "  6.68800110e-03  5.36540337e-02 -5.43379337e-02  5.65053336e-02\n",
      " -1.21757714e-03  4.48681489e-02  5.08147851e-02  6.81783184e-02\n",
      " -3.89322229e-02  4.77344990e-02  9.87311453e-03  2.92332750e-02\n",
      "  8.17191973e-03  4.90363091e-02  3.38889211e-02 -3.91935557e-02\n",
      "  4.81136702e-02  5.20262159e-02 -3.64380032e-02  1.90998446e-02\n",
      "  2.45749000e-02  2.45582517e-02 -5.14575057e-02  6.77467138e-02\n",
      " -4.66784462e-02  4.24663275e-02  2.20646709e-02 -3.80819687e-03\n",
      "  7.04939291e-02 -2.89609712e-02 -4.57619764e-02 -5.40004820e-02\n",
      " -5.71429729e-02  2.84317955e-02  1.04200570e-02 -7.27911294e-02\n",
      " -7.52954856e-02 -3.96714434e-02  5.62814884e-02 -8.16632956e-02\n",
      " -4.56927577e-03  6.75283149e-02  5.26468419e-02 -4.17747311e-02\n",
      " -1.20074581e-02 -7.73590878e-02 -3.88446115e-02 -1.54492632e-02\n",
      "  2.81896405e-02 -7.67256171e-02  6.62213415e-02  9.64272115e-03\n",
      "  3.96719016e-03  1.70306657e-02  3.98791395e-02  5.41948387e-03\n",
      " -2.56618615e-02 -4.28405358e-03  1.91764813e-02 -3.08031985e-03\n",
      " -5.53015471e-02  8.30750465e-02  3.24998936e-03 -2.65505295e-02\n",
      " -6.58113509e-02 -2.56675854e-02 -2.87982896e-02  6.20451681e-02\n",
      " -6.55155927e-02  1.37058757e-02  2.57570893e-02  5.47956564e-02\n",
      "  1.49778202e-02  1.08092586e-02 -9.44397505e-03 -2.50548366e-02\n",
      "  4.54943702e-02 -5.65256774e-02 -2.91312356e-02 -5.99555001e-02\n",
      "  7.27367401e-02  1.00227483e-02  7.13880733e-02  9.55394283e-02\n",
      "  6.87313154e-02  8.67984071e-02 -4.56715561e-02  1.86015442e-02\n",
      " -1.12737074e-01 -8.75721723e-02 -8.24876875e-02 -6.55069647e-33\n",
      "  8.79006535e-02  4.35279198e-02  5.42694144e-03 -2.15938725e-02\n",
      " -2.51297168e-02 -5.55067174e-02  7.90751446e-03  4.55968603e-02\n",
      "  6.14195988e-02  6.32465631e-02 -8.12996551e-02  5.92673244e-03\n",
      "  1.90227618e-03  2.83718146e-02  9.55217034e-02 -2.90618837e-02\n",
      " -2.65780464e-02  4.49035168e-02 -4.91595343e-02  7.42954686e-02\n",
      " -3.70688066e-02  3.61300493e-03 -6.78260177e-02  1.16603579e-02\n",
      " -3.44022773e-02  1.41857797e-02  1.73773244e-02  6.00385815e-02\n",
      "  4.10940386e-02 -3.13343853e-02  5.68223521e-02 -3.74053442e-03\n",
      " -1.45105459e-02 -1.08645655e-01  3.03453803e-02  1.06173037e-02\n",
      "  3.12044788e-02  9.87127125e-02 -5.71317691e-03 -7.45605305e-03\n",
      " -4.74471599e-02 -1.78985286e-03  9.83442292e-02 -4.83028367e-02\n",
      "  1.73768308e-02 -6.69407425e-03  1.08070783e-02 -3.23944390e-02\n",
      "  1.27766794e-02 -1.68252233e-02  1.00955460e-02 -4.02507409e-02\n",
      " -1.39783905e-03  2.56734379e-02  4.64629792e-02  1.47737879e-02\n",
      " -2.30788514e-02  4.13165092e-02 -2.01728269e-02  7.65396878e-02\n",
      " -7.50844330e-02  5.46278395e-02  2.76178047e-02 -7.25181401e-02\n",
      " -4.47656251e-02  4.02284563e-02  2.56349631e-02  4.25867997e-02\n",
      "  5.12352213e-02  2.22111400e-02 -2.37129796e-02  1.67812500e-02\n",
      "  7.10750418e-03 -1.04440086e-01 -8.27063806e-03  2.18780544e-02\n",
      " -1.34685351e-05 -8.50025043e-02 -3.30866203e-02 -1.64536247e-03\n",
      " -6.23349175e-02 -7.28207529e-02  2.83848420e-02 -5.27298450e-02\n",
      "  5.35508618e-02  7.09713027e-02  2.68249842e-03  3.02901939e-02\n",
      "  9.62804630e-03  2.52391137e-02  3.94033790e-02  9.81441047e-03\n",
      " -4.90978472e-02  3.43917869e-02  6.00200184e-02  4.51936693e-33\n",
      " -6.20069681e-04  4.79750782e-02 -3.12373019e-03  8.23219940e-02\n",
      " -1.28823034e-02 -1.57807991e-02  1.06032856e-01  1.25953659e-01\n",
      " -4.52417657e-02  4.38978616e-03 -3.08214277e-02 -7.01911096e-03\n",
      "  1.95790268e-02  3.28400061e-02 -4.30647582e-02  3.22034247e-02\n",
      " -2.38008574e-02  1.10331904e-02  1.52520440e-03 -1.38942292e-02\n",
      " -3.19453399e-03  3.99875827e-02  1.12995300e-02  2.75463685e-02\n",
      "  4.92795780e-02 -2.07403060e-02 -1.56424027e-02 -3.66237690e-03\n",
      " -5.73468721e-03 -4.20845859e-02 -2.60344818e-02  2.16791965e-02\n",
      " -1.25297770e-01  6.10775836e-02  8.71994905e-03 -2.92234984e-03\n",
      " -4.92901243e-02  2.76774094e-02 -2.60044262e-03 -1.12819578e-02\n",
      "  3.31158824e-02 -5.41505888e-02 -7.98732713e-02  5.63229583e-02\n",
      "  8.59031305e-02 -3.23664285e-02  7.92900920e-02  3.21501046e-02\n",
      " -1.23962900e-02 -2.54499298e-02 -6.83978340e-03 -6.62691891e-02\n",
      "  3.22555192e-02  6.77126721e-02  4.62903529e-02 -1.16646022e-01\n",
      " -2.64990591e-02 -7.24230409e-02 -8.94165784e-02 -1.92338657e-02\n",
      "  1.36721954e-01  5.48154265e-02  5.36230020e-03  6.46989346e-02\n",
      " -1.51212432e-03 -4.65467423e-02  3.44801657e-02  2.89243255e-02\n",
      " -5.52584045e-02 -2.83403730e-04  4.74905446e-02  5.96518964e-02\n",
      "  5.84927984e-02 -1.15366699e-02 -5.85806593e-02  5.16887754e-02\n",
      "  1.08957306e-01 -1.99063793e-02 -5.62247932e-02  5.46186976e-02\n",
      " -1.51734948e-01 -3.05138193e-02  3.36872227e-02 -8.07781052e-03\n",
      " -4.18702774e-02 -3.63011248e-02 -5.41335270e-02 -3.26645710e-02\n",
      "  3.25645916e-02  2.12052073e-02 -1.19653858e-01  5.04187085e-02\n",
      "  1.81403533e-02 -5.38607240e-02 -1.12969903e-02 -1.78023196e-08\n",
      " -1.26163170e-04  4.48262552e-03 -9.24948156e-02 -9.21816230e-02\n",
      "  3.68864797e-02  1.09654441e-02 -2.98484731e-02 -8.16981196e-02\n",
      "  5.76436333e-03 -6.37250990e-02  2.95480154e-02  3.48018366e-04\n",
      " -7.39898831e-02 -1.99514348e-02  5.48794903e-02  1.70018543e-02\n",
      "  1.38700634e-01  8.42842534e-02  4.17042673e-02 -5.00271395e-02\n",
      "  1.00148823e-02  7.51945972e-02 -1.12515911e-02 -5.93776861e-03\n",
      " -8.25834423e-02  8.90991688e-02  5.58175445e-02  9.19512510e-02\n",
      "  1.17305270e-03  7.10180104e-02 -7.52753913e-02 -4.75220801e-03\n",
      "  1.67199317e-02 -1.07083216e-01  5.93434572e-02  3.51774991e-02\n",
      " -5.58749400e-03 -3.17973457e-02  2.09289081e-02 -1.01266891e-01\n",
      "  2.33655069e-02 -4.82862676e-03 -7.32886791e-03 -2.97159925e-02\n",
      "  4.21182401e-02 -7.55821317e-02 -6.18754625e-02  2.70882510e-02\n",
      "  2.12845411e-02 -3.11846845e-02  4.09226716e-02 -2.27110237e-02\n",
      " -5.85797094e-02 -2.21756734e-02 -1.69752911e-02 -7.52369389e-02\n",
      "  1.85790267e-02 -1.17022187e-01 -1.35242373e-01 -3.10019497e-02\n",
      "  4.53495234e-02 -8.89916196e-02  7.39454105e-02 -1.02111883e-02]\n"
     ]
    }
   ],
   "source": [
    "query = \"What is the unemployment rate for a Bachelor's degree?\"\n",
    "query_embedding = model.encode([query])  # Generate embedding for the query\n",
    "\n",
    "print(query_embedding[0])  # Print the query embedding to verify"
   ]
  },
  {
   "cell_type": "code",
   "execution_count": 16,
   "id": "e0029bf0-c499-4dc9-ad85-f164db90824b",
   "metadata": {},
   "outputs": [
    {
     "name": "stdout",
     "output_type": "stream",
     "text": [
      "Most similar chunks:\n",
      "Chunk 22: especially by giving them jobs. (Distance: 1.6480523347854614)\n",
      "Chunk 29: The shocker...  I have seen nepotism work - in a couple of instances.  I actually have a long- (Distance: 1.6713573932647705)\n",
      "Chunk 28: favored group, rather than job performance. (Distance: 1.6843702793121338)\n"
     ]
    }
   ],
   "source": [
    "# Perform the similarity search (find the top 3 most similar chunks)\n",
    "k = 3  # Number of nearest neighbors to retrieve\n",
    "distances, indices = index.search(query_embedding, k)\n",
    "\n",
    "# Print the indices and corresponding chunks\n",
    "print(\"Most similar chunks:\")\n",
    "for i in range(k):\n",
    "    print(f\"Chunk {indices[0][i]}: {chunks[indices[0][i]]} (Distance: {distances[0][i]})\")"
   ]
  },
  {
   "cell_type": "code",
   "execution_count": 17,
   "id": "74b05c4e-3ab3-47bf-b2c0-fd2388f6a47b",
   "metadata": {},
   "outputs": [
    {
     "name": "stdout",
     "output_type": "stream",
     "text": [
      "Requirement already satisfied: openai in c:\\users\\e15\\downloads\\documents\\jupy\\lib\\site-packages (1.57.4)\n",
      "Requirement already satisfied: anyio<5,>=3.5.0 in c:\\users\\e15\\downloads\\documents\\jupy\\lib\\site-packages (from openai) (4.2.0)\n",
      "Requirement already satisfied: distro<2,>=1.7.0 in c:\\users\\e15\\downloads\\documents\\jupy\\lib\\site-packages (from openai) (1.9.0)\n",
      "Requirement already satisfied: httpx<1,>=0.23.0 in c:\\users\\e15\\downloads\\documents\\jupy\\lib\\site-packages (from openai) (0.27.0)\n",
      "Requirement already satisfied: jiter<1,>=0.4.0 in c:\\users\\e15\\downloads\\documents\\jupy\\lib\\site-packages (from openai) (0.8.2)\n",
      "Requirement already satisfied: pydantic<3,>=1.9.0 in c:\\users\\e15\\downloads\\documents\\jupy\\lib\\site-packages (from openai) (2.5.3)\n",
      "Requirement already satisfied: sniffio in c:\\users\\e15\\downloads\\documents\\jupy\\lib\\site-packages (from openai) (1.3.0)\n",
      "Requirement already satisfied: tqdm>4 in c:\\users\\e15\\downloads\\documents\\jupy\\lib\\site-packages (from openai) (4.66.4)\n",
      "Requirement already satisfied: typing-extensions<5,>=4.11 in c:\\users\\e15\\downloads\\documents\\jupy\\lib\\site-packages (from openai) (4.11.0)\n",
      "Requirement already satisfied: idna>=2.8 in c:\\users\\e15\\downloads\\documents\\jupy\\lib\\site-packages (from anyio<5,>=3.5.0->openai) (3.7)\n",
      "Requirement already satisfied: certifi in c:\\users\\e15\\downloads\\documents\\jupy\\lib\\site-packages (from httpx<1,>=0.23.0->openai) (2024.8.30)\n",
      "Requirement already satisfied: httpcore==1.* in c:\\users\\e15\\downloads\\documents\\jupy\\lib\\site-packages (from httpx<1,>=0.23.0->openai) (1.0.2)\n",
      "Requirement already satisfied: h11<0.15,>=0.13 in c:\\users\\e15\\downloads\\documents\\jupy\\lib\\site-packages (from httpcore==1.*->httpx<1,>=0.23.0->openai) (0.14.0)\n",
      "Requirement already satisfied: annotated-types>=0.4.0 in c:\\users\\e15\\downloads\\documents\\jupy\\lib\\site-packages (from pydantic<3,>=1.9.0->openai) (0.6.0)\n",
      "Requirement already satisfied: pydantic-core==2.14.6 in c:\\users\\e15\\downloads\\documents\\jupy\\lib\\site-packages (from pydantic<3,>=1.9.0->openai) (2.14.6)\n",
      "Requirement already satisfied: colorama in c:\\users\\e15\\downloads\\documents\\jupy\\lib\\site-packages (from tqdm>4->openai) (0.4.6)\n"
     ]
    }
   ],
   "source": [
    "!pip install openai"
   ]
  },
  {
   "cell_type": "code",
   "execution_count": 18,
   "id": "f1f09599-5564-4321-874f-0c8c1208b195",
   "metadata": {},
   "outputs": [
    {
     "name": "stdout",
     "output_type": "stream",
     "text": [
      "Name: openai\n",
      "Version: 1.57.4\n",
      "Summary: The official Python library for the openai API\n",
      "Home-page: \n",
      "Author: \n",
      "Author-email: OpenAI <support@openai.com>\n",
      "License: Apache-2.0\n",
      "Location: C:\\Users\\E15\\Downloads\\Documents\\jupy\\Lib\\site-packages\n",
      "Requires: anyio, distro, httpx, jiter, pydantic, sniffio, tqdm, typing-extensions\n",
      "Required-by: \n",
      "Note: you may need to restart the kernel to use updated packages.\n"
     ]
    }
   ],
   "source": [
    "pip show openai\n"
   ]
  },
  {
   "cell_type": "code",
   "execution_count": 24,
   "id": "32f91528-a482-419f-b81c-5b03c8548b25",
   "metadata": {},
   "outputs": [],
   "source": [
    "import openai\n",
    "\n",
    "# Directly set your OpenAI API key\n",
    "openai.api_key = \"Navya\"\n",
    "\n",
    "# Your code continues...\n"
   ]
  },
  {
   "cell_type": "code",
   "execution_count": 26,
   "id": "17646b68-ef54-457a-849d-6ca936927856",
   "metadata": {},
   "outputs": [
    {
     "ename": "OpenAIError",
     "evalue": "The api_key client option must be set either by passing api_key to the client or by setting the OPENAI_API_KEY environment variable",
     "output_type": "error",
     "traceback": [
      "\u001b[1;31m---------------------------------------------------------------------------\u001b[0m",
      "\u001b[1;31mOpenAIError\u001b[0m                               Traceback (most recent call last)",
      "Cell \u001b[1;32mIn[26], line 34\u001b[0m\n\u001b[0;32m     27\u001b[0m messages \u001b[38;5;241m=\u001b[39m [\n\u001b[0;32m     28\u001b[0m     {\u001b[38;5;124m\"\u001b[39m\u001b[38;5;124mrole\u001b[39m\u001b[38;5;124m\"\u001b[39m: \u001b[38;5;124m\"\u001b[39m\u001b[38;5;124msystem\u001b[39m\u001b[38;5;124m\"\u001b[39m, \u001b[38;5;124m\"\u001b[39m\u001b[38;5;124mcontent\u001b[39m\u001b[38;5;124m\"\u001b[39m: \u001b[38;5;124m\"\u001b[39m\u001b[38;5;124mYou are a helpful assistant.\u001b[39m\u001b[38;5;124m\"\u001b[39m},\n\u001b[0;32m     29\u001b[0m     {\u001b[38;5;124m\"\u001b[39m\u001b[38;5;124mrole\u001b[39m\u001b[38;5;124m\"\u001b[39m: \u001b[38;5;124m\"\u001b[39m\u001b[38;5;124muser\u001b[39m\u001b[38;5;124m\"\u001b[39m, \u001b[38;5;124m\"\u001b[39m\u001b[38;5;124mcontent\u001b[39m\u001b[38;5;124m\"\u001b[39m: query},\n\u001b[0;32m     30\u001b[0m     {\u001b[38;5;124m\"\u001b[39m\u001b[38;5;124mrole\u001b[39m\u001b[38;5;124m\"\u001b[39m: \u001b[38;5;124m\"\u001b[39m\u001b[38;5;124muser\u001b[39m\u001b[38;5;124m\"\u001b[39m, \u001b[38;5;124m\"\u001b[39m\u001b[38;5;124mcontent\u001b[39m\u001b[38;5;124m\"\u001b[39m: relevant_chunks}\n\u001b[0;32m     31\u001b[0m ]\n\u001b[0;32m     33\u001b[0m \u001b[38;5;66;03m# Call OpenAI API to generate a response (using the chat completion endpoint)\u001b[39;00m\n\u001b[1;32m---> 34\u001b[0m response \u001b[38;5;241m=\u001b[39m openai\u001b[38;5;241m.\u001b[39mchat\u001b[38;5;241m.\u001b[39mCompletion\u001b[38;5;241m.\u001b[39mcreate(\n\u001b[0;32m     35\u001b[0m     model\u001b[38;5;241m=\u001b[39m\u001b[38;5;124m\"\u001b[39m\u001b[38;5;124mgpt-3.5-turbo\u001b[39m\u001b[38;5;124m\"\u001b[39m,  \u001b[38;5;66;03m# You can change to another model (like gpt-4) if needed\u001b[39;00m\n\u001b[0;32m     36\u001b[0m     messages\u001b[38;5;241m=\u001b[39mmessages,\n\u001b[0;32m     37\u001b[0m     max_tokens\u001b[38;5;241m=\u001b[39m\u001b[38;5;241m200\u001b[39m  \u001b[38;5;66;03m# You can adjust the token length as needed\u001b[39;00m\n\u001b[0;32m     38\u001b[0m )\n\u001b[0;32m     40\u001b[0m \u001b[38;5;66;03m# Print the response\u001b[39;00m\n\u001b[0;32m     41\u001b[0m \u001b[38;5;28mprint\u001b[39m(response[\u001b[38;5;124m'\u001b[39m\u001b[38;5;124mchoices\u001b[39m\u001b[38;5;124m'\u001b[39m][\u001b[38;5;241m0\u001b[39m][\u001b[38;5;124m'\u001b[39m\u001b[38;5;124mmessage\u001b[39m\u001b[38;5;124m'\u001b[39m][\u001b[38;5;124m'\u001b[39m\u001b[38;5;124mcontent\u001b[39m\u001b[38;5;124m'\u001b[39m]\u001b[38;5;241m.\u001b[39mstrip())\n",
      "File \u001b[1;32m~\\Downloads\\Documents\\jupy\\Lib\\site-packages\\openai\\_utils\\_proxy.py:20\u001b[0m, in \u001b[0;36mLazyProxy.__getattr__\u001b[1;34m(self, attr)\u001b[0m\n\u001b[0;32m     19\u001b[0m \u001b[38;5;28;01mdef\u001b[39;00m \u001b[38;5;21m__getattr__\u001b[39m(\u001b[38;5;28mself\u001b[39m, attr: \u001b[38;5;28mstr\u001b[39m) \u001b[38;5;241m-\u001b[39m\u001b[38;5;241m>\u001b[39m \u001b[38;5;28mobject\u001b[39m:\n\u001b[1;32m---> 20\u001b[0m     proxied \u001b[38;5;241m=\u001b[39m \u001b[38;5;28mself\u001b[39m\u001b[38;5;241m.\u001b[39m__get_proxied__()\n\u001b[0;32m     21\u001b[0m     \u001b[38;5;28;01mif\u001b[39;00m \u001b[38;5;28misinstance\u001b[39m(proxied, LazyProxy):\n\u001b[0;32m     22\u001b[0m         \u001b[38;5;28;01mreturn\u001b[39;00m proxied  \u001b[38;5;66;03m# pyright: ignore\u001b[39;00m\n",
      "File \u001b[1;32m~\\Downloads\\Documents\\jupy\\Lib\\site-packages\\openai\\_utils\\_proxy.py:55\u001b[0m, in \u001b[0;36mLazyProxy.__get_proxied__\u001b[1;34m(self)\u001b[0m\n\u001b[0;32m     54\u001b[0m \u001b[38;5;28;01mdef\u001b[39;00m \u001b[38;5;21m__get_proxied__\u001b[39m(\u001b[38;5;28mself\u001b[39m) \u001b[38;5;241m-\u001b[39m\u001b[38;5;241m>\u001b[39m T:\n\u001b[1;32m---> 55\u001b[0m     \u001b[38;5;28;01mreturn\u001b[39;00m \u001b[38;5;28mself\u001b[39m\u001b[38;5;241m.\u001b[39m__load__()\n",
      "File \u001b[1;32m~\\Downloads\\Documents\\jupy\\Lib\\site-packages\\openai\\_module_client.py:12\u001b[0m, in \u001b[0;36mChatProxy.__load__\u001b[1;34m(self)\u001b[0m\n\u001b[0;32m     10\u001b[0m \u001b[38;5;129m@override\u001b[39m\n\u001b[0;32m     11\u001b[0m \u001b[38;5;28;01mdef\u001b[39;00m \u001b[38;5;21m__load__\u001b[39m(\u001b[38;5;28mself\u001b[39m) \u001b[38;5;241m-\u001b[39m\u001b[38;5;241m>\u001b[39m resources\u001b[38;5;241m.\u001b[39mChat:\n\u001b[1;32m---> 12\u001b[0m     \u001b[38;5;28;01mreturn\u001b[39;00m _load_client()\u001b[38;5;241m.\u001b[39mchat\n",
      "File \u001b[1;32m~\\Downloads\\Documents\\jupy\\Lib\\site-packages\\openai\\__init__.py:328\u001b[0m, in \u001b[0;36m_load_client\u001b[1;34m()\u001b[0m\n\u001b[0;32m    312\u001b[0m         _client \u001b[38;5;241m=\u001b[39m _AzureModuleClient(  \u001b[38;5;66;03m# type: ignore\u001b[39;00m\n\u001b[0;32m    313\u001b[0m             api_version\u001b[38;5;241m=\u001b[39mapi_version,\n\u001b[0;32m    314\u001b[0m             azure_endpoint\u001b[38;5;241m=\u001b[39mazure_endpoint,\n\u001b[1;32m   (...)\u001b[0m\n\u001b[0;32m    324\u001b[0m             http_client\u001b[38;5;241m=\u001b[39mhttp_client,\n\u001b[0;32m    325\u001b[0m         )\n\u001b[0;32m    326\u001b[0m         \u001b[38;5;28;01mreturn\u001b[39;00m _client\n\u001b[1;32m--> 328\u001b[0m     _client \u001b[38;5;241m=\u001b[39m _ModuleClient(\n\u001b[0;32m    329\u001b[0m         api_key\u001b[38;5;241m=\u001b[39mapi_key,\n\u001b[0;32m    330\u001b[0m         organization\u001b[38;5;241m=\u001b[39morganization,\n\u001b[0;32m    331\u001b[0m         project\u001b[38;5;241m=\u001b[39mproject,\n\u001b[0;32m    332\u001b[0m         base_url\u001b[38;5;241m=\u001b[39mbase_url,\n\u001b[0;32m    333\u001b[0m         timeout\u001b[38;5;241m=\u001b[39mtimeout,\n\u001b[0;32m    334\u001b[0m         max_retries\u001b[38;5;241m=\u001b[39mmax_retries,\n\u001b[0;32m    335\u001b[0m         default_headers\u001b[38;5;241m=\u001b[39mdefault_headers,\n\u001b[0;32m    336\u001b[0m         default_query\u001b[38;5;241m=\u001b[39mdefault_query,\n\u001b[0;32m    337\u001b[0m         http_client\u001b[38;5;241m=\u001b[39mhttp_client,\n\u001b[0;32m    338\u001b[0m     )\n\u001b[0;32m    339\u001b[0m     \u001b[38;5;28;01mreturn\u001b[39;00m _client\n\u001b[0;32m    341\u001b[0m \u001b[38;5;28;01mreturn\u001b[39;00m _client\n",
      "File \u001b[1;32m~\\Downloads\\Documents\\jupy\\Lib\\site-packages\\openai\\_client.py:101\u001b[0m, in \u001b[0;36mOpenAI.__init__\u001b[1;34m(self, api_key, organization, project, base_url, timeout, max_retries, default_headers, default_query, http_client, _strict_response_validation)\u001b[0m\n\u001b[0;32m     99\u001b[0m     api_key \u001b[38;5;241m=\u001b[39m os\u001b[38;5;241m.\u001b[39menviron\u001b[38;5;241m.\u001b[39mget(\u001b[38;5;124m\"\u001b[39m\u001b[38;5;124mOPENAI_API_KEY\u001b[39m\u001b[38;5;124m\"\u001b[39m)\n\u001b[0;32m    100\u001b[0m \u001b[38;5;28;01mif\u001b[39;00m api_key \u001b[38;5;129;01mis\u001b[39;00m \u001b[38;5;28;01mNone\u001b[39;00m:\n\u001b[1;32m--> 101\u001b[0m     \u001b[38;5;28;01mraise\u001b[39;00m OpenAIError(\n\u001b[0;32m    102\u001b[0m         \u001b[38;5;124m\"\u001b[39m\u001b[38;5;124mThe api_key client option must be set either by passing api_key to the client or by setting the OPENAI_API_KEY environment variable\u001b[39m\u001b[38;5;124m\"\u001b[39m\n\u001b[0;32m    103\u001b[0m     )\n\u001b[0;32m    104\u001b[0m \u001b[38;5;28mself\u001b[39m\u001b[38;5;241m.\u001b[39mapi_key \u001b[38;5;241m=\u001b[39m api_key\n\u001b[0;32m    106\u001b[0m \u001b[38;5;28;01mif\u001b[39;00m organization \u001b[38;5;129;01mis\u001b[39;00m \u001b[38;5;28;01mNone\u001b[39;00m:\n",
      "\u001b[1;31mOpenAIError\u001b[0m: The api_key client option must be set either by passing api_key to the client or by setting the OPENAI_API_KEY environment variable"
     ]
    }
   ],
   "source": [
    "import openai\n",
    "import os\n",
    "\n",
    "# Set your OpenAI API key\n",
    "openai.api_key = os.getenv(\"Navya\")\n",
    "\n",
    "# Define the query (the question to be answered)\n",
    "query = \"What is bribe?\"\n",
    "\n",
    "# Define the chunks (pieces of information to help answer the query)\n",
    "chunks = [\n",
    "\"\"\"A gift is a bribe which involves huge money which if you can’t eat, drink or smoke it in a day.\"\"\"\n",
    " ,\n",
    "    \"\"\" Acceptance of a gift, if revealed in public, will throw up grave consequences', 'for both the company and the employee because it will be viewed as bribe.\"\"\"\n",
    "]\n",
    "\n",
    "# Define the indices (which chunks to use for generating the answer)\n",
    "indices = [[0, 1]]  # Use the first and second chunks\n",
    "\n",
    "# Define the number of chunks to include (k)\n",
    "k = 2  # We want to use both chunks\n",
    "\n",
    "# Combine the relevant chunks into a prompt\n",
    "relevant_chunks = \"\\n\".join([chunks[indices[0][i]] for i in range(k)])\n",
    "\n",
    "# Create the prompt for the OpenAI API\n",
    "messages = [\n",
    "    {\"role\": \"system\", \"content\": \"You are a helpful assistant.\"},\n",
    "    {\"role\": \"user\", \"content\": query},\n",
    "    {\"role\": \"user\", \"content\": relevant_chunks}\n",
    "]\n",
    "\n",
    "# Call OpenAI API to generate a response (using the chat completion endpoint)\n",
    "response = openai.chat.Completion.create(\n",
    "    model=\"gpt-3.5-turbo\",  # You can change to another model (like gpt-4) if needed\n",
    "    messages=messages,\n",
    "    max_tokens=200  # You can adjust the token length as needed\n",
    ")\n",
    "\n",
    "# Print the response\n",
    "print(response['choices'][0]['message']['content'].strip())\n"
   ]
  },
  {
   "cell_type": "code",
   "execution_count": null,
   "id": "12dbbf5d-f90f-4ee2-9282-63fa13fa7398",
   "metadata": {},
   "outputs": [],
   "source": [
    "# Check if the query is asking for a comparison\n",
    "if \"compare\" in query.lower():\n",
    "    # Define degrees to compare\n",
    "    degrees = [\"nepotism\", \"bribe\"]\n",
    "\n",
    "    # Extract relevant chunks for each degree\n",
    "    nepotism_chunks = [chunk for chunk in chunks if \"nepotism\" in chunk]\n",
    "    bribe_chunks = [chunk for chunk in chunks if \"bribe\" in chunk]\n",
    "\n",
    "    # Debugging output to check if filtering works\n",
    "    print(\"Nepotism Chunks:\", nepotism_chunks)\n",
    "    print(\"Bribe Chunks:\", bribe_chunks)\n",
    "\n",
    "\n",
    "    # Format the comparison prompt\n",
    "    comparison_prompt = f\"Compare between and nepotism and bribe:\\n\\n\" \\\n",
    "                        f\"nepotism data:\\n{nepotism_chunks}\\n\\n\" \\\n",
    "                        f\"bribe degree data:\\n{bribe_chunks}\"\n",
    "\n",
    "    # Generate response based on the comparison prompt\n",
    "    response = openai.Completion.create(\n",
    "        engine=\"text-davinci-003\",\n",
    "        prompt=comparison_prompt,\n",
    "        max_tokens=300\n",
    "    )\n",
    "    print(\"API Response:\", response)\n",
    "    print(response.choices[0].text.strip())\n"
   ]
  },
  {
   "cell_type": "code",
   "execution_count": null,
   "id": "18419229-7453-4da4-8a1d-e0cb8563936b",
   "metadata": {},
   "outputs": [],
   "source": [
    "response_text = \"\"\"\n",
    "Comparison:\n",
    "\n",
    "- **nepotism**: 4.2%\n",
    "- **bribe**: 3.1%\n",
    "\n",
    "Source: Extracted from the PDF document.\n",
    "\"\"\"\n",
    "print(response_text)\n"
   ]
  },
  {
   "cell_type": "code",
   "execution_count": null,
   "id": "9920da18-6d91-4fa3-b1cb-81e9826eb2c7",
   "metadata": {},
   "outputs": [],
   "source": [
    "if not relevant_chunks:\n",
    "    print(\"Sorry, I couldn't find any relevant information.\")\n",
    "    response = \"Sorry, I couldn't find the information you're asking for.\"\n",
    "else:\n",
    "    response = openai.Completion.create(\n",
    "        engine=\"text-davinci-003\",\n",
    "        prompt=prompt,\n",
    "        max_tokens=200\n",
    "    )\n",
    "    print(response.choices[0].text.strip())\n"
   ]
  },
  {
   "cell_type": "code",
   "execution_count": null,
   "id": "e12e0e22-62de-42d5-b800-4a1678675a53",
   "metadata": {},
   "outputs": [],
   "source": [
    "# Generate embeddings for chunks in batches\n",
    "batch_size = 50  # Process 50 chunks at a time\n",
    "for i in range(0, len(chunks), batch_size):\n",
    "    batch = chunks[i:i+batch_size]\n",
    "    chunk_embeddings_batch = model.encode(batch)\n",
    "    # Add batch embeddings to the FAISS index\n",
    "    index.add(chunk_embeddings_batch)\n"
   ]
  },
  {
   "cell_type": "code",
   "execution_count": null,
   "id": "00e05e7b-cbae-4b6d-b7ad-2414c270936d",
   "metadata": {},
   "outputs": [],
   "source": []
  }
 ],
 "metadata": {
  "kernelspec": {
   "display_name": "Python 3 (ipykernel)",
   "language": "python",
   "name": "python3"
  },
  "language_info": {
   "codemirror_mode": {
    "name": "ipython",
    "version": 3
   },
   "file_extension": ".py",
   "mimetype": "text/x-python",
   "name": "python",
   "nbconvert_exporter": "python",
   "pygments_lexer": "ipython3",
   "version": "3.12.4"
  }
 },
 "nbformat": 4,
 "nbformat_minor": 5
}
